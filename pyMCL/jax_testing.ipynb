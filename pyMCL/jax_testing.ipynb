{
 "cells": [
  {
   "cell_type": "code",
   "execution_count": 1,
   "metadata": {},
   "outputs": [
    {
     "name": "stdout",
     "output_type": "stream",
     "text": [
      "numpy\n",
      "3.97 ms ± 90.2 μs per loop (mean ± std. dev. of 7 runs, 100 loops each)\n",
      "jax\n"
     ]
    },
    {
     "ename": "TypeError",
     "evalue": "'<class 'jaxlib.xla_extension.ArrayImpl'>' object does not support item assignment. JAX arrays are immutable. Instead of ``x[idx] = y``, use ``x = x.at[idx].set(y)`` or another .at[] method: https://jax.readthedocs.io/en/latest/_autosummary/jax.numpy.ndarray.at.html",
     "output_type": "error",
     "traceback": [
      "\u001b[0;31m---------------------------------------------------------------------------\u001b[0m",
      "\u001b[0;31mTypeError\u001b[0m                                 Traceback (most recent call last)",
      "Cell \u001b[0;32mIn[1], line 19\u001b[0m\n\u001b[1;32m     16\u001b[0m get_ipython()\u001b[38;5;241m.\u001b[39mrun_line_magic(\u001b[38;5;124m'\u001b[39m\u001b[38;5;124mtimeit\u001b[39m\u001b[38;5;124m'\u001b[39m, \u001b[38;5;124m'\u001b[39m\u001b[38;5;124mmarkov_cluster(random_array)\u001b[39m\u001b[38;5;124m'\u001b[39m)\n\u001b[1;32m     18\u001b[0m \u001b[38;5;28mprint\u001b[39m(\u001b[38;5;124m\"\u001b[39m\u001b[38;5;124mjax\u001b[39m\u001b[38;5;124m\"\u001b[39m)\n\u001b[0;32m---> 19\u001b[0m get_ipython()\u001b[38;5;241m.\u001b[39mrun_line_magic(\u001b[38;5;124m'\u001b[39m\u001b[38;5;124mtimeit\u001b[39m\u001b[38;5;124m'\u001b[39m, \u001b[38;5;124m'\u001b[39m\u001b[38;5;124mjax_markov_cluster(random_array)\u001b[39m\u001b[38;5;124m'\u001b[39m)\n",
      "File \u001b[0;32m/opt/miniconda3/envs/pyMCL/lib/python3.12/site-packages/IPython/core/interactiveshell.py:2480\u001b[0m, in \u001b[0;36mInteractiveShell.run_line_magic\u001b[0;34m(self, magic_name, line, _stack_depth)\u001b[0m\n\u001b[1;32m   2478\u001b[0m     kwargs[\u001b[38;5;124m'\u001b[39m\u001b[38;5;124mlocal_ns\u001b[39m\u001b[38;5;124m'\u001b[39m] \u001b[38;5;241m=\u001b[39m \u001b[38;5;28mself\u001b[39m\u001b[38;5;241m.\u001b[39mget_local_scope(stack_depth)\n\u001b[1;32m   2479\u001b[0m \u001b[38;5;28;01mwith\u001b[39;00m \u001b[38;5;28mself\u001b[39m\u001b[38;5;241m.\u001b[39mbuiltin_trap:\n\u001b[0;32m-> 2480\u001b[0m     result \u001b[38;5;241m=\u001b[39m fn(\u001b[38;5;241m*\u001b[39margs, \u001b[38;5;241m*\u001b[39m\u001b[38;5;241m*\u001b[39mkwargs)\n\u001b[1;32m   2482\u001b[0m \u001b[38;5;66;03m# The code below prevents the output from being displayed\u001b[39;00m\n\u001b[1;32m   2483\u001b[0m \u001b[38;5;66;03m# when using magics with decorator @output_can_be_silenced\u001b[39;00m\n\u001b[1;32m   2484\u001b[0m \u001b[38;5;66;03m# when the last Python token in the expression is a ';'.\u001b[39;00m\n\u001b[1;32m   2485\u001b[0m \u001b[38;5;28;01mif\u001b[39;00m \u001b[38;5;28mgetattr\u001b[39m(fn, magic\u001b[38;5;241m.\u001b[39mMAGIC_OUTPUT_CAN_BE_SILENCED, \u001b[38;5;28;01mFalse\u001b[39;00m):\n",
      "File \u001b[0;32m/opt/miniconda3/envs/pyMCL/lib/python3.12/site-packages/IPython/core/magics/execution.py:1185\u001b[0m, in \u001b[0;36mExecutionMagics.timeit\u001b[0;34m(self, line, cell, local_ns)\u001b[0m\n\u001b[1;32m   1183\u001b[0m \u001b[38;5;28;01mfor\u001b[39;00m index \u001b[38;5;129;01min\u001b[39;00m \u001b[38;5;28mrange\u001b[39m(\u001b[38;5;241m0\u001b[39m, \u001b[38;5;241m10\u001b[39m):\n\u001b[1;32m   1184\u001b[0m     number \u001b[38;5;241m=\u001b[39m \u001b[38;5;241m10\u001b[39m \u001b[38;5;241m*\u001b[39m\u001b[38;5;241m*\u001b[39m index\n\u001b[0;32m-> 1185\u001b[0m     time_number \u001b[38;5;241m=\u001b[39m timer\u001b[38;5;241m.\u001b[39mtimeit(number)\n\u001b[1;32m   1186\u001b[0m     \u001b[38;5;28;01mif\u001b[39;00m time_number \u001b[38;5;241m>\u001b[39m\u001b[38;5;241m=\u001b[39m \u001b[38;5;241m0.2\u001b[39m:\n\u001b[1;32m   1187\u001b[0m         \u001b[38;5;28;01mbreak\u001b[39;00m\n",
      "File \u001b[0;32m/opt/miniconda3/envs/pyMCL/lib/python3.12/site-packages/IPython/core/magics/execution.py:173\u001b[0m, in \u001b[0;36mTimer.timeit\u001b[0;34m(self, number)\u001b[0m\n\u001b[1;32m    171\u001b[0m gc\u001b[38;5;241m.\u001b[39mdisable()\n\u001b[1;32m    172\u001b[0m \u001b[38;5;28;01mtry\u001b[39;00m:\n\u001b[0;32m--> 173\u001b[0m     timing \u001b[38;5;241m=\u001b[39m \u001b[38;5;28mself\u001b[39m\u001b[38;5;241m.\u001b[39minner(it, \u001b[38;5;28mself\u001b[39m\u001b[38;5;241m.\u001b[39mtimer)\n\u001b[1;32m    174\u001b[0m \u001b[38;5;28;01mfinally\u001b[39;00m:\n\u001b[1;32m    175\u001b[0m     \u001b[38;5;28;01mif\u001b[39;00m gcold:\n",
      "File \u001b[0;32m<magic-timeit>:1\u001b[0m, in \u001b[0;36minner\u001b[0;34m(_it, _timer)\u001b[0m\n",
      "File \u001b[0;32m~/GitHub_repositories/pyMCL/pyMCL/jax_pymcl.py:79\u001b[0m, in \u001b[0;36mjax_markov_cluster\u001b[0;34m(matrix, inflation, expansion, pruning_threshold, convergence_threshold, overlaps)\u001b[0m\n\u001b[1;32m     77\u001b[0m matrix_exp \u001b[38;5;241m=\u001b[39m jnp\u001b[38;5;241m.\u001b[39mlinalg\u001b[38;5;241m.\u001b[39mmatrix_power(matrix, expansion)\n\u001b[1;32m     78\u001b[0m \u001b[38;5;66;03m# purne\u001b[39;00m\n\u001b[0;32m---> 79\u001b[0m matrix_prune \u001b[38;5;241m=\u001b[39m _prune(matrix_exp, pruning_threshold)\n\u001b[1;32m     80\u001b[0m \u001b[38;5;66;03m# inflation\u001b[39;00m\n\u001b[1;32m     81\u001b[0m matrix_inf \u001b[38;5;241m=\u001b[39m jnp\u001b[38;5;241m.\u001b[39mpower(matrix_prune, inflation)\n",
      "File \u001b[0;32m~/GitHub_repositories/pyMCL/pyMCL/jax_pymcl.py:185\u001b[0m, in \u001b[0;36m_prune\u001b[0;34m(matrix, threshold)\u001b[0m\n\u001b[1;32m    183\u001b[0m col_max \u001b[38;5;241m=\u001b[39m np\u001b[38;5;241m.\u001b[39mmax(set_matrix, axis\u001b[38;5;241m=\u001b[39m\u001b[38;5;241m0\u001b[39m, keepdims\u001b[38;5;241m=\u001b[39m\u001b[38;5;28;01mTrue\u001b[39;00m)\n\u001b[1;32m    184\u001b[0m prune_mask \u001b[38;5;241m=\u001b[39m np\u001b[38;5;241m.\u001b[39mlogical_and(set_matrix \u001b[38;5;241m<\u001b[39m threshold, set_matrix \u001b[38;5;241m!=\u001b[39m col_max)\n\u001b[0;32m--> 185\u001b[0m set_matrix[prune_mask] \u001b[38;5;241m=\u001b[39m \u001b[38;5;241m0\u001b[39m\n\u001b[1;32m    186\u001b[0m \u001b[38;5;28;01mreturn\u001b[39;00m set_matrix\n",
      "File \u001b[0;32m/opt/miniconda3/envs/pyMCL/lib/python3.12/site-packages/jax/_src/numpy/array_methods.py:286\u001b[0m, in \u001b[0;36m_unimplemented_setitem\u001b[0;34m(self, i, x)\u001b[0m\n\u001b[1;32m    281\u001b[0m \u001b[38;5;28;01mdef\u001b[39;00m \u001b[38;5;21m_unimplemented_setitem\u001b[39m(\u001b[38;5;28mself\u001b[39m, i, x):\n\u001b[1;32m    282\u001b[0m   msg \u001b[38;5;241m=\u001b[39m (\u001b[38;5;124m\"\u001b[39m\u001b[38;5;124m'\u001b[39m\u001b[38;5;132;01m{}\u001b[39;00m\u001b[38;5;124m'\u001b[39m\u001b[38;5;124m object does not support item assignment. JAX arrays are \u001b[39m\u001b[38;5;124m\"\u001b[39m\n\u001b[1;32m    283\u001b[0m          \u001b[38;5;124m\"\u001b[39m\u001b[38;5;124mimmutable. Instead of ``x[idx] = y``, use ``x = x.at[idx].set(y)`` \u001b[39m\u001b[38;5;124m\"\u001b[39m\n\u001b[1;32m    284\u001b[0m          \u001b[38;5;124m\"\u001b[39m\u001b[38;5;124mor another .at[] method: \u001b[39m\u001b[38;5;124m\"\u001b[39m\n\u001b[1;32m    285\u001b[0m          \u001b[38;5;124m\"\u001b[39m\u001b[38;5;124mhttps://jax.readthedocs.io/en/latest/_autosummary/jax.numpy.ndarray.at.html\u001b[39m\u001b[38;5;124m\"\u001b[39m)\n\u001b[0;32m--> 286\u001b[0m   \u001b[38;5;28;01mraise\u001b[39;00m \u001b[38;5;167;01mTypeError\u001b[39;00m(msg\u001b[38;5;241m.\u001b[39mformat(\u001b[38;5;28mtype\u001b[39m(\u001b[38;5;28mself\u001b[39m)))\n",
      "\u001b[0;31mTypeError\u001b[0m: '<class 'jaxlib.xla_extension.ArrayImpl'>' object does not support item assignment. JAX arrays are immutable. Instead of ``x[idx] = y``, use ``x = x.at[idx].set(y)`` or another .at[] method: https://jax.readthedocs.io/en/latest/_autosummary/jax.numpy.ndarray.at.html"
     ]
    }
   ],
   "source": [
    "from pyMCL.pymcl import markov_cluster\n",
    "from pyMCL.jax_pymcl import jax_markov_cluster\n",
    "\n",
    "import numpy as np\n",
    "import jax.numpy as jnp\n",
    "\n",
    "\n",
    "def generate_random_array(n):\n",
    "    return np.random.rand(n, n)\n",
    "\n",
    "# Example usage\n",
    "n = 100\n",
    "random_array = generate_random_array(n)\n",
    "\n",
    "print(\"numpy\")\n",
    "%timeit markov_cluster(random_array)\n",
    "\n",
    "print(\"jax\")\n",
    "%timeit jax_markov_cluster(random_array)"
   ]
  },
  {
   "cell_type": "code",
   "execution_count": null,
   "metadata": {},
   "outputs": [],
   "source": [
    "print(\"numpy\")\n",
    "%timeit np_mm()\n",
    "print(\"jax\")\n",
    "%timeit jnp_mm()"
   ]
  },
  {
   "cell_type": "code",
   "execution_count": 15,
   "metadata": {},
   "outputs": [
    {
     "name": "stdout",
     "output_type": "stream",
     "text": [
      "67.7 μs ± 132 ns per loop (mean ± std. dev. of 7 runs, 10,000 loops each)\n"
     ]
    }
   ],
   "source": [
    "import numpy as np\n",
    "import jax.numpy as jnp\n",
    "from jax import jit, lax\n",
    "\n",
    "# Generate a random array and convert to JAX array\n",
    "small_array = np.random.rand(100, 100)\n",
    "small_array_jax = jnp.array(small_array)\n",
    "\n",
    "@jit\n",
    "def _prune(matrix: jnp.ndarray, threshold: float) -> jnp.ndarray:\n",
    "    col_max = jnp.max(matrix, axis=0, keepdims=True)\n",
    "    # Create boolean mask\n",
    "    prune_mask = jnp.logical_and(matrix < threshold, matrix != col_max)\n",
    "    # Use `jax.lax.select` to apply the mask\n",
    "    set_matrix = lax.select(prune_mask, jnp.zeros_like(matrix), matrix)\n",
    "    return set_matrix\n",
    "\n",
    "@jit\n",
    "def test(matrix):\n",
    "    # Exponential\n",
    "    matrix_exp = jnp.linalg.matrix_power(matrix, 2)\n",
    "    # Prune\n",
    "    matrix_prune = _prune(matrix_exp, 1e-5)\n",
    "    # Inflation\n",
    "    matrix_inf = jnp.power(matrix_prune, 2)\n",
    "\n",
    "    return matrix_inf\n",
    "\n",
    "test(small_array_jax)\n",
    "%timeit test(small_array_jax)"
   ]
  },
  {
   "cell_type": "code",
   "execution_count": 51,
   "metadata": {},
   "outputs": [
    {
     "name": "stdout",
     "output_type": "stream",
     "text": [
      "200 μs ± 2.21 μs per loop (mean ± std. dev. of 7 runs, 1,000 loops each)\n"
     ]
    }
   ],
   "source": [
    "test1_array = np.array(\n",
    "    [\n",
    "        [0.2  , 0.25 , 0.   , 0.   , 0.   , 0.333, 0.25 , 0.   , 0.   , 0.25 , 0.   , 0.   ],\n",
    "        [0.2  , 0.25 , 0.25 , 0.   , 0.2  , 0.   , 0.   , 0.   , 0.   , 0.   , 0.   , 0.   ],\n",
    "        [0.   , 0.25 , 0.25 , 0.2  , 0.2  , 0.   , 0.   , 0.   , 0.   , 0.   , 0.   , 0.   ],\n",
    "        [0.   , 0.   , 0.25 , 0.2  , 0.   , 0.   , 0.   , 0.2  , 0.2  , 0.   , 0.2  , 0.   ],\n",
    "        [0.   , 0.25 , 0.25 , 0.   , 0.2  , 0.   , 0.25 , 0.2  , 0.   , 0.   , 0.   , 0.   ],\n",
    "        [0.2  , 0.   , 0.   , 0.   , 0.   , 0.333, 0.   , 0.   , 0.   , 0.25 , 0.   , 0.   ],\n",
    "        [0.2  , 0.   , 0.   , 0.   , 0.2  , 0.   , 0.25 , 0.   , 0.   , 0.25 , 0.   , 0.   ],\n",
    "        [0.   , 0.   , 0.   , 0.2  , 0.2  , 0.   , 0.   , 0.2  , 0.2  , 0.   , 0.2  , 0.   ],\n",
    "        [0.   , 0.   , 0.   , 0.2  , 0.   , 0.   , 0.   , 0.2  , 0.2  , 0.   , 0.2  , 0.333],\n",
    "        [0.2  , 0.   , 0.   , 0.   , 0.   , 0.333, 0.25 , 0.   , 0.   , 0.25 , 0.   , 0.   ],\n",
    "        [0.   , 0.   , 0.   , 0.2  , 0.   , 0.   , 0.   , 0.2  , 0.2  , 0.   , 0.2  , 0.333],\n",
    "        [0.   , 0.   , 0.   , 0.   , 0.   , 0.   , 0.   , 0.   , 0.2  , 0.   , 0.2  , 0.333]\n",
    "    ]\n",
    ")\n",
    "def _normalize_cols(matrix: np.ndarray)->np.ndarray:\n",
    "    row_sums = matrix.sum(axis=0, keepdims=True)\n",
    "    return matrix / row_sums\n",
    "\n",
    "def _prune(matrix: np.ndarray, threshold: float)->np.ndarray:\n",
    "    col_max = np.max(matrix, axis=0, keepdims=True)\n",
    "    prune_mask = np.logical_and(matrix < threshold, matrix != col_max)\n",
    "    matrix[prune_mask] = 0\n",
    "    return matrix\n",
    "\n",
    "def _measure_convergence(matrix: np.ndarray)->float:\n",
    "    col_max = np.max(matrix, axis=0, keepdims=True)\n",
    "    sum_of_squares = np.sum(np.square(matrix), axis=0)\n",
    "    value = np.max(col_max - sum_of_squares)\n",
    "    return value\n",
    "\n",
    "def mcl(matrix, expansion=2, inflation=2, pruning_threshold=1e-5, convergence_threshold=1e-3):\n",
    "    chaos = 1\n",
    "    while True:\n",
    "        # expansion\n",
    "        matrix_exp = np.linalg.matrix_power(matrix, expansion)\n",
    "        # purne\n",
    "        matrix_prune = _prune(matrix_exp, pruning_threshold)\n",
    "        # inflation\n",
    "        matrix_inf = np.power(matrix_prune, inflation)\n",
    "\n",
    "        # renormalize columns\n",
    "        matrix = _normalize_cols(matrix_inf)\n",
    "        # asess convergence\n",
    "        chaos = _measure_convergence(matrix)\n",
    "        if chaos < convergence_threshold:\n",
    "            break\n",
    "\n",
    "    return matrix\n",
    "\n",
    "%timeit mcl(test1_array)"
   ]
  },
  {
   "cell_type": "code",
   "execution_count": 50,
   "metadata": {},
   "outputs": [
    {
     "name": "stdout",
     "output_type": "stream",
     "text": [
      "CPU times: user 47.1 ms, sys: 3.37 ms, total: 50.5 ms\n",
      "Wall time: 46.8 ms\n"
     ]
    },
    {
     "data": {
      "text/plain": [
       "Array([[0.2  , 0.25 , 0.   , 0.   , 0.   , 0.333, 0.25 , 0.   , 0.   ,\n",
       "        0.25 , 0.   , 0.   ],\n",
       "       [0.2  , 0.25 , 0.25 , 0.   , 0.2  , 0.   , 0.   , 0.   , 0.   ,\n",
       "        0.   , 0.   , 0.   ],\n",
       "       [0.   , 0.25 , 0.25 , 0.2  , 0.2  , 0.   , 0.   , 0.   , 0.   ,\n",
       "        0.   , 0.   , 0.   ],\n",
       "       [0.   , 0.   , 0.25 , 0.2  , 0.   , 0.   , 0.   , 0.2  , 0.2  ,\n",
       "        0.   , 0.2  , 0.   ],\n",
       "       [0.   , 0.25 , 0.25 , 0.   , 0.2  , 0.   , 0.25 , 0.2  , 0.   ,\n",
       "        0.   , 0.   , 0.   ],\n",
       "       [0.2  , 0.   , 0.   , 0.   , 0.   , 0.333, 0.   , 0.   , 0.   ,\n",
       "        0.25 , 0.   , 0.   ],\n",
       "       [0.2  , 0.   , 0.   , 0.   , 0.2  , 0.   , 0.25 , 0.   , 0.   ,\n",
       "        0.25 , 0.   , 0.   ],\n",
       "       [0.   , 0.   , 0.   , 0.2  , 0.2  , 0.   , 0.   , 0.2  , 0.2  ,\n",
       "        0.   , 0.2  , 0.   ],\n",
       "       [0.   , 0.   , 0.   , 0.2  , 0.   , 0.   , 0.   , 0.2  , 0.2  ,\n",
       "        0.   , 0.2  , 0.333],\n",
       "       [0.2  , 0.   , 0.   , 0.   , 0.   , 0.333, 0.25 , 0.   , 0.   ,\n",
       "        0.25 , 0.   , 0.   ],\n",
       "       [0.   , 0.   , 0.   , 0.2  , 0.   , 0.   , 0.   , 0.2  , 0.2  ,\n",
       "        0.   , 0.2  , 0.333],\n",
       "       [0.   , 0.   , 0.   , 0.   , 0.   , 0.   , 0.   , 0.   , 0.2  ,\n",
       "        0.   , 0.2  , 0.333]], dtype=float32)"
      ]
     },
     "execution_count": 50,
     "metadata": {},
     "output_type": "execute_result"
    }
   ],
   "source": [
    "import jax.numpy as jnp\n",
    "from jax import jit, lax\n",
    "\n",
    "test1_array = jnp.array(\n",
    "    [\n",
    "        [0.2, 0.25, 0.0, 0.0, 0.0, 0.333, 0.25, 0.0, 0.0, 0.25, 0.0, 0.0],\n",
    "        [0.2, 0.25, 0.25, 0.0, 0.2, 0.0, 0.0, 0.0, 0.0, 0.0, 0.0, 0.0],\n",
    "        [0.0, 0.25, 0.25, 0.2, 0.2, 0.0, 0.0, 0.0, 0.0, 0.0, 0.0, 0.0],\n",
    "        [0.0, 0.0, 0.25, 0.2, 0.0, 0.0, 0.0, 0.2, 0.2, 0.0, 0.2, 0.0],\n",
    "        [0.0, 0.25, 0.25, 0.0, 0.2, 0.0, 0.25, 0.2, 0.0, 0.0, 0.0, 0.0],\n",
    "        [0.2, 0.0, 0.0, 0.0, 0.0, 0.333, 0.0, 0.0, 0.0, 0.25, 0.0, 0.0],\n",
    "        [0.2, 0.0, 0.0, 0.0, 0.2, 0.0, 0.25, 0.0, 0.0, 0.25, 0.0, 0.0],\n",
    "        [0.0, 0.0, 0.0, 0.2, 0.2, 0.0, 0.0, 0.2, 0.2, 0.0, 0.2, 0.0],\n",
    "        [0.0, 0.0, 0.0, 0.2, 0.0, 0.0, 0.0, 0.2, 0.2, 0.0, 0.2, 0.333],\n",
    "        [0.2, 0.0, 0.0, 0.0, 0.0, 0.333, 0.25, 0.0, 0.0, 0.25, 0.0, 0.0],\n",
    "        [0.0, 0.0, 0.0, 0.2, 0.0, 0.0, 0.0, 0.2, 0.2, 0.0, 0.2, 0.333],\n",
    "        [0.0, 0.0, 0.0, 0.0, 0.0, 0.0, 0.0, 0.0, 0.2, 0.0, 0.2, 0.333],\n",
    "    ]\n",
    ")\n",
    "\n",
    "@jit\n",
    "def _normalize_cols(matrix: jnp.ndarray) -> jnp.ndarray:\n",
    "    row_sums = matrix.sum(axis=0, keepdims=True)\n",
    "    return matrix / row_sums\n",
    "\n",
    "@jit\n",
    "def _prune(matrix: jnp.ndarray, threshold: float) -> jnp.ndarray:\n",
    "    col_max = jnp.max(matrix, axis=0, keepdims=True)\n",
    "    prune_mask = jnp.logical_and(matrix < threshold, matrix != col_max)\n",
    "    return jnp.where(prune_mask, 0, matrix)\n",
    "\n",
    "@jit\n",
    "def _measure_convergence(matrix: jnp.ndarray) -> float:\n",
    "    col_max = jnp.max(matrix, axis=0, keepdims=True)\n",
    "    sum_of_squares = jnp.sum(jnp.square(matrix), axis=0)\n",
    "    value = jnp.max(col_max - sum_of_squares)\n",
    "    return value\n",
    "\n",
    "\n",
    "def mcl(matrix, expansion=2, inflation=2, pruning_threshold=1e-5, convergence_threshold=1e-3):\n",
    "    def cond_fn(state):\n",
    "        matrix, _ = state\n",
    "        chaos = _measure_convergence(matrix)\n",
    "        return jnp.any(jnp.greater(chaos, convergence_threshold))\n",
    "\n",
    "    def body_fn(state):\n",
    "        matrix, iteration = state\n",
    "        # expansion\n",
    "        matrix_exp = jnp.linalg.matrix_power(matrix, expansion)\n",
    "        # prune\n",
    "        matrix_prune = _prune(matrix_exp, pruning_threshold)\n",
    "        # inflation\n",
    "        matrix_inf = jnp.power(matrix_prune, inflation)\n",
    "        # renormalize columns\n",
    "        matrix = _normalize_cols(matrix_inf)\n",
    "        return matrix, iteration + 1\n",
    "\n",
    "    matrix, _ = lax.while_loop(cond_fn, body_fn, (matrix, 0))\n",
    "    return matrix\n",
    "\n",
    "# Run the MCL algorithm\n",
    "mcl(test1_array)\n",
    "%time mcl(test1_array)"
   ]
  }
 ],
 "metadata": {
  "kernelspec": {
   "display_name": "pyMCL",
   "language": "python",
   "name": "python3"
  },
  "language_info": {
   "codemirror_mode": {
    "name": "ipython",
    "version": 3
   },
   "file_extension": ".py",
   "mimetype": "text/x-python",
   "name": "python",
   "nbconvert_exporter": "python",
   "pygments_lexer": "ipython3",
   "version": "3.12.4"
  }
 },
 "nbformat": 4,
 "nbformat_minor": 2
}
